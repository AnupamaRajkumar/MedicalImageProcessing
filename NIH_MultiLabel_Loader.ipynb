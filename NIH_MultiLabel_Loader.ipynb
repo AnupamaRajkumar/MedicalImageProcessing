{
 "cells": [
  {
   "cell_type": "markdown",
   "metadata": {},
   "source": [
    "Importing Necessary Libraries"
   ]
  },
  {
   "cell_type": "code",
   "execution_count": 2,
   "metadata": {},
   "outputs": [],
   "source": [
    "%matplotlib inline\n",
    "%config InlineBackend.figure_format = 'retina'\n",
    "\n",
    "import numpy as np\n",
    "import pandas as pd\n",
    "import csv\n",
    "import cv2\n",
    "\n",
    "import matplotlib.pyplot as plt\n",
    "\n",
    "import torch\n",
    "from torch import nn\n",
    "from torch import optim\n",
    "import torch.nn.functional as F\n",
    "from torchvision import datasets, transforms, models\n",
    "from torch.utils.data.dataset import Dataset\n",
    "import os.path\n",
    "from os import path"
   ]
  },
  {
   "cell_type": "code",
   "execution_count": 3,
   "metadata": {},
   "outputs": [],
   "source": [
    "device = torch.device(\"cuda:0\" if torch.cuda.is_available() else \"cpu\")"
   ]
  },
  {
   "cell_type": "markdown",
   "metadata": {},
   "source": [
    "Importing data set and splitting it into training, test and validation data sets"
   ]
  },
  {
   "cell_type": "code",
   "execution_count": 3,
   "metadata": {},
   "outputs": [
    {
     "name": "stdout",
     "output_type": "stream",
     "text": [
      "Number of patient ids: training: 21563, validation: 3079, testing: 6161\n"
     ]
    }
   ],
   "source": [
    "#reference : https://aws.amazon.com/blogs/machine-learning/classifying-high-resolution-chest-x-ray-medical-images-with-amazon-sagemaker/\n",
    "data_dir = \"../../../../../../data/kaggle/nih-chest-xrays/data/\"\n",
    "#splitting thr data set into training, validation and testing data sets\n",
    "#70% training data\n",
    "trainper = 0.7\n",
    "#10% validation data\n",
    "valper = 0.1\n",
    "file_name = data_dir + 'Data_Entry_2017.csv'\n",
    "\n",
    "a = pd.read_csv(file_name)\n",
    "patient_ids = a['Patient ID']\n",
    "uniq_pids = np.unique(patient_ids)\n",
    "np.random.shuffle(uniq_pids)\n",
    "total_ids = len(uniq_pids)\n",
    "\n",
    "trainset = int(trainper*total_ids)\n",
    "valset = trainset+int(valper*total_ids)\n",
    "#remaining data is used as a test set\n",
    "testset = trainset+valset\n",
    "\n",
    "train = uniq_pids[:trainset]\n",
    "val = uniq_pids[trainset+1:valset]\n",
    "test = uniq_pids[valset+1:]\n",
    "print('Number of patient ids: training: %d, validation: %d, testing: %d'%(len(train), len(val), len(test)))\n",
    "\n",
    "traindata = a.loc[a['Patient ID'].isin(train)]\n",
    "valdata = a.loc[a['Patient ID'].isin(val)]\n",
    "testdata = a.loc[a['Patient ID'].isin(test)]\n",
    "\n",
    "traindata.to_csv('traindata.csv', sep=',', header=False, index=False)\n",
    "valdata.to_csv('valdata.csv', sep=',', header=False, index=False)\n",
    "testdata.to_csv('testdata.csv', sep=',', header=False, index=False)"
   ]
  },
  {
   "cell_type": "markdown",
   "metadata": {},
   "source": [
    "Loading training data into the data loader "
   ]
  },
  {
   "cell_type": "code",
   "execution_count": 4,
   "metadata": {},
   "outputs": [],
   "source": [
    "# Define transforms\n",
    "train_transform = transforms.Compose([transforms.Resize(256),\n",
    "                                        transforms.RandomResizedCrop(224),\n",
    "                                        transforms.RandomHorizontalFlip(), # randomly flip and rotate\n",
    "                                        transforms.RandomRotation(10),\n",
    "                                        transforms.ToTensor(),\n",
    "                                        transforms.Normalize((0.5, 0.5, 0.5), (0.5, 0.5, 0.5))])\n",
    "\n",
    "test_transform = transforms.Compose([transforms.Resize(255),\n",
    "                                      transforms.CenterCrop(224),\n",
    "                                      transforms.ToTensor(),\n",
    "                                      transforms.Normalize((0.5, 0.5, 0.5), (0.5, 0.5, 0.5))])\n",
    "\n"
   ]
  },
  {
   "cell_type": "markdown",
   "metadata": {},
   "source": [
    "Creating a bag of words of labels"
   ]
  },
  {
   "cell_type": "code",
   "execution_count": 5,
   "metadata": {},
   "outputs": [],
   "source": [
    "def gen_set(csvfile, outputfile):\n",
    "    disease_list = ['Atelectasis', 'Consolidation', 'Infiltration', 'Pneumothorax', 'Edema', 'Emphysema', \\\n",
    "                   'Fibrosis', 'Effusion', 'Pneumonia', 'Pleural_Thickening', 'Cardiomegaly', 'Nodule', 'Mass', \\\n",
    "                   'Hernia']\n",
    "    alldiseases = {disease:i for i,disease in enumerate(disease_list)}\n",
    "    with open(outputfile, 'w') as fp:\n",
    "        with open(csvfile, 'r') as cfile:\n",
    "            line = csv.reader(cfile, delimiter=',')\n",
    "            index = 0\n",
    "            for element in line:\n",
    "                # the first column is the image filename, while the second\n",
    "                # column has the list of diseases separated by |\n",
    "                diseases = element[1].split('|')\n",
    "                #fp.write('%d\\t'%index)\n",
    "                for d in alldiseases:\n",
    "                    if ((d in diseases) and (d == 'Atelectasis')):\n",
    "                        fp.write('%d\\t'%1)\n",
    "                    elif((d in diseases) and (d == 'Consolidation')):\n",
    "                        fp.write('%d\\t'%2)\n",
    "                    elif((d in diseases) and (d == 'Infiltration')):\n",
    "                        fp.write('%d\\t'%3)\n",
    "                    elif((d in diseases) and (d == 'Pneumothorax')):\n",
    "                        fp.write('%d\\t'%4)\n",
    "                    elif((d in diseases) and (d == 'Edema')):\n",
    "                        fp.write('%d\\t'%5)\n",
    "                    elif((d in diseases) and (d == 'Emphysema')):\n",
    "                        fp.write('%d\\t'%6)\n",
    "                    elif((d in diseases) and (d == 'Fibrosis')):\n",
    "                        fp.write('%d\\t'%7)\n",
    "                    elif((d in diseases) and (d == 'Effusion')):\n",
    "                        fp.write('%d\\t'%8)\n",
    "                    elif((d in diseases) and (d == 'Pneumonia')):\n",
    "                        fp.write('%d\\t'%9)\n",
    "                    elif((d in diseases) and (d == 'Pleural_Thickening')):\n",
    "                        fp.write('%d\\t'%10)\n",
    "                    elif((d in diseases) and (d == 'Cardiomegaly')):\n",
    "                        fp.write('%d\\t'%11)\n",
    "                    elif((d in diseases) and (d == 'Nodule')):\n",
    "                        fp.write('%d\\t'%12)\n",
    "                    elif((d in diseases) and (d == 'Mass')):\n",
    "                        fp.write('%d\\t'%13)\n",
    "                    elif((d in diseases) and (d == 'Hernia')):\n",
    "                        fp.write('%d\\t'%14)\n",
    "                    else:\n",
    "                        fp.write('%d\\t'%0)\n",
    "                fp.write('images/%s\\n' % element[0])\n",
    "                index += 1\n",
    "#when used in local machine, to be commented out otherwise\n",
    "#path = 'D:/EIT_AUS_TUB/SoSe2020_MLInMIP/MedicalImageProcessing/'    \n",
    "#os.chdir(path)                 \n",
    "gen_set('traindata.csv', 'chestxraytrain.txt')\n",
    "gen_set('valdata.csv', 'chestxrayval.txt')\n",
    "gen_set('testdata.csv', 'chestxraytest.txt')    "
   ]
  },
  {
   "cell_type": "markdown",
   "metadata": {},
   "source": [
    "Function to identify the diagnosis label associated with an image"
   ]
  },
  {
   "cell_type": "code",
   "execution_count": 6,
   "metadata": {},
   "outputs": [],
   "source": [
    "def Diagnosis(word):\n",
    "    #print(\"word\", word)\n",
    "    if(word == 1):\n",
    "        diag = 'Atelectasis'\n",
    "    elif(word == 2):\n",
    "        diag = 'Consolidation'\n",
    "    elif(word == 3):\n",
    "        diag = 'Infiltration'\n",
    "    elif(word == 4):\n",
    "        diag = 'Pneumothorax'\n",
    "    elif(word == 5):\n",
    "        diag = 'Edema'\n",
    "    elif(word == 6):\n",
    "        diag = 'Emphysema'\n",
    "    elif(word == 7):\n",
    "        diag = 'Fibrosis'\n",
    "    elif(word == 8):\n",
    "        diag = 'Effusion'\n",
    "    elif(word == 9):\n",
    "        diag = 'Pneumonia'\n",
    "    elif(word == 10):\n",
    "        diag = 'Pleural_Thickening'\n",
    "    elif(word == 11):\n",
    "        diag = 'Cardiomegaly'\n",
    "    elif(word == 12):\n",
    "        diag = 'Nodule'\n",
    "    elif(word == 13):\n",
    "        diag = 'Mass'\n",
    "    elif(word == 14):\n",
    "        diag = 'Hernia'\n",
    "    else:\n",
    "        diag = \"Undiagnosed\"\n",
    "\n",
    "    #print(diag)\n",
    "    return diag"
   ]
  },
  {
   "cell_type": "markdown",
   "metadata": {},
   "source": [
    "Create a custom dataloader - __to do__\n",
    "The idea is, in __getitem__:\n",
    "A. to read the lst file which contains the labels associated with images\n",
    "B. For each image, check which ailment is '1'\n",
    "C. Append those to labels for that image\n",
    "D. Return image and labels"
   ]
  },
  {
   "cell_type": "code",
   "execution_count": 7,
   "metadata": {},
   "outputs": [],
   "source": [
    "class XRaysTrainDataset(Dataset):\n",
    "    \n",
    "    def __init__(self, csv_name, transform=None):\n",
    "        file1 = open(csv_name, \"r\")\n",
    "        self.data =  file1.readlines()           \n",
    "        self.data_len = len(self.data)         \n",
    "        self.transform = transform\n",
    "             \n",
    "    def __len__(self):\n",
    "        return self.data_len\n",
    "    \n",
    "    def __getitem__(self, index):       \n",
    "        #read labels in each line in the txt file\n",
    "        cnt = 0 \n",
    "        imageName = []            \n",
    "        imgLab = [] \n",
    "        image_Label = []\n",
    "        for word in self.data[index].split():          \n",
    "            #diagnose until the last index which is the image name\n",
    "            if(cnt < 14):\n",
    "                #print(word)\n",
    "                diag = Diagnosis(int(word))\n",
    "                #print(diag)\n",
    "                if(diag != 'Undiagnosed'):\n",
    "                    imgLab.append(diag)\n",
    "                    #image_Label.append(imgLab)\n",
    "                    image_Label = imgLab.copy()\n",
    "\n",
    "            if(cnt == 14):\n",
    "                imageName.append(word)\n",
    "            cnt+=1 \n",
    "        \n",
    "        print(imageName)  \n",
    "        if not image_Label:\n",
    "            image_Label.append(\"Undiagnosed\")\n",
    "            #image_Label = imgLab.copy()\n",
    "                                     \n",
    "        print(image_Label)\n",
    "        return imageName, image_Label  \n",
    "    "
   ]
  },
  {
   "cell_type": "code",
   "execution_count": 8,
   "metadata": {},
   "outputs": [],
   "source": [
    "traindataLoader = XRaysTrainDataset('chestxraytrain.txt', transform = train_transform)\n",
    "trainLoader = torch.utils.data.DataLoader(traindataLoader, batch_size = 5, shuffle = True)"
   ]
  },
  {
   "cell_type": "code",
   "execution_count": 9,
   "metadata": {},
   "outputs": [
    {
     "name": "stdout",
     "output_type": "stream",
     "text": [
      "['images/00013088_001.png']\n",
      "['Undiagnosed']\n",
      "['images/00030260_010.png']\n",
      "['Emphysema']\n",
      "['images/00014329_002.png']\n",
      "['Undiagnosed']\n",
      "['images/00022278_001.png']\n",
      "['Atelectasis', 'Infiltration']\n",
      "['images/00008183_000.png']\n",
      "['Undiagnosed']\n",
      "in trainloader\n",
      "[('images/00013088_001.png', 'images/00030260_010.png', 'images/00014329_002.png', 'images/00022278_001.png', 'images/00008183_000.png')]\n",
      "[('Undiagnosed', 'Emphysema', 'Undiagnosed', 'Atelectasis', 'Undiagnosed')]\n"
     ]
    }
   ],
   "source": [
    "imageName, label = next(iter(trainLoader))         \n",
    "print(\"in trainloader\")\n",
    "print(imageName)\n",
    "print(label)"
   ]
  },
  {
   "cell_type": "code",
   "execution_count": null,
   "metadata": {},
   "outputs": [],
   "source": []
  }
 ],
 "metadata": {
  "kernelspec": {
   "display_name": "PyTorch",
   "language": "python",
   "name": "pytorch"
  },
  "language_info": {
   "codemirror_mode": {
    "name": "ipython",
    "version": 3
   },
   "file_extension": ".py",
   "mimetype": "text/x-python",
   "name": "python",
   "nbconvert_exporter": "python",
   "pygments_lexer": "ipython3",
   "version": "3.6.9"
  }
 },
 "nbformat": 4,
 "nbformat_minor": 4
}
